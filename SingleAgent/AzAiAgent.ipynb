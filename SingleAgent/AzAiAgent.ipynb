{
 "cells": [
  {
   "cell_type": "code",
   "execution_count": 24,
   "metadata": {},
   "outputs": [
    {
     "data": {
      "text/plain": [
       "True"
      ]
     },
     "execution_count": 24,
     "metadata": {},
     "output_type": "execute_result"
    }
   ],
   "source": [
    "from azure.ai.projects import AIProjectClient\n",
    "from azure.ai.projects.models import CodeInterpreterTool\n",
    "from azure.identity import DefaultAzureCredential\n",
    "from datetime import datetime\n",
    "import os\n",
    "from dotenv import load_dotenv\n",
    "\n",
    "load_dotenv()"
   ]
  },
  {
   "cell_type": "code",
   "execution_count": 25,
   "metadata": {},
   "outputs": [],
   "source": [
    "def create_code_interpreter_agent(client):\n",
    "    \"\"\"Creates an AI agent with code execution capabilities.\"\"\"\n",
    "    code_interpreter = CodeInterpreterTool()\n",
    "    agent = client.agents.create_agent(\n",
    "        model=os.getenv(\"AZURE_API_DEPLOYMENT\"),\n",
    "        name=\"code-interpreter-agent\",\n",
    "        instructions=\"You are a helpful Python programming assistant.\",\n",
    "        tools=code_interpreter.definitions,\n",
    "        tool_resources=code_interpreter.resources,\n",
    "    )\n",
    "    return agent"
   ]
  },
  {
   "cell_type": "code",
   "execution_count": 26,
   "metadata": {},
   "outputs": [],
   "source": [
    "def create_thread_and_message(client, agent_id: str, user_input: str):\n",
    "    \"\"\"Creates a new thread and sends a user message.\"\"\"\n",
    "    thread = client.agents.create_thread()\n",
    "    message = client.agents.create_message(\n",
    "        thread_id=thread.id,\n",
    "        role=\"user\",\n",
    "        content=f\"\"\"\n",
    "        Write a blog on the given topic:\n",
    "        1. Save {user_input} to blog-{datetime.now().strftime(\"%Y-%m-%d_%H-%M-%S\")}.md\n",
    "        2. Provide a download link for the saved file.\n",
    "        \"\"\",\n",
    "    )\n",
    "    return thread"
   ]
  },
  {
   "cell_type": "code",
   "execution_count": 27,
   "metadata": {},
   "outputs": [],
   "source": [
    "def execute_run(client, thread_id: str, agent_id: str):\n",
    "    \"\"\"Executes the agent's task and handles errors.\"\"\"\n",
    "    run = client.agents.create_and_process_run(thread_id=thread_id, assistant_id=agent_id)\n",
    "    print(f\"Run finished with status: {run.status}\")\n",
    "    \n",
    "    if run.status == \"failed\":\n",
    "        print(f\"Run failed: {run.last_error}\")\n",
    "        return None\n",
    "    \n",
    "    return run"
   ]
  },
  {
   "cell_type": "code",
   "execution_count": 28,
   "metadata": {},
   "outputs": [],
   "source": [
    "def fetch_and_save_file(client, thread_id: str):\n",
    "    \"\"\"Fetches the generated file and saves it locally.\"\"\"\n",
    "    messages = client.agents.get_messages(thread_id=thread_id)\n",
    "    print(f\"Messages: {messages}\")\n",
    "    \n",
    "    last_msg = messages.get_last_text_message_by_sender(\"assistant\")\n",
    "    if last_msg:\n",
    "        print(f\"Last Message: {last_msg.text.value}\")\n",
    "    \n",
    "    for file_path_annotation in messages.file_path_annotations:\n",
    "        file_name = os.path.basename(file_path_annotation.text)\n",
    "        client.agents.save_file(\n",
    "            file_id=file_path_annotation.file_path.file_id, \n",
    "            file_name=file_name, \n",
    "            target_dir=\"./blog\"\n",
    "        )\n",
    "        print(f\"File saved: {file_name}\")"
   ]
  },
  {
   "cell_type": "code",
   "execution_count": 29,
   "metadata": {},
   "outputs": [
    {
     "name": "stdout",
     "output_type": "stream",
     "text": [
      "Run finished with status: RunStatus.COMPLETED\n",
      "Messages: <azure.ai.projects.models._patch.ThreadMessages object at 0x0000021FCDEE6F60>\n",
      "Last Message: The blog post has been saved successfully. You can download it using the link below:\n",
      "\n",
      "[Download blog-2025-02-15_13-12-06.md](sandbox:/mnt/data/blog-2025-02-15_13-12-06.md)\n",
      "File saved: blog-2025-02-15_13-12-06.md\n"
     ]
    }
   ],
   "source": [
    "def main():\n",
    "    # Initialize Azure AI Project Client\n",
    "    project_client = AIProjectClient.from_connection_string(\n",
    "    credential=DefaultAzureCredential(),\n",
    "    conn_str=os.getenv(\"AZURE_PROJ_CONN\"),\n",
    ")\n",
    "\n",
    "    # Create agent\n",
    "    agent = create_code_interpreter_agent(project_client)\n",
    "\n",
    "    # Take user input from CLI\n",
    "    user_input = input(\"Enter your request for the agent: \")\n",
    "\n",
    "    # Send message\n",
    "    thread = create_thread_and_message(project_client, agent.id, user_input)\n",
    "    \n",
    "    # Execute agent logic\n",
    "    run = execute_run(project_client, thread.id, agent.id)\n",
    "\n",
    "    # Fetch results\n",
    "    if run:\n",
    "        fetch_and_save_file(project_client, thread.id)\n",
    "\n",
    "if __name__ == \"__main__\":\n",
    "    main()"
   ]
  }
 ],
 "metadata": {
  "kernelspec": {
   "display_name": ".venv",
   "language": "python",
   "name": "python3"
  },
  "language_info": {
   "codemirror_mode": {
    "name": "ipython",
    "version": 3
   },
   "file_extension": ".py",
   "mimetype": "text/x-python",
   "name": "python",
   "nbconvert_exporter": "python",
   "pygments_lexer": "ipython3",
   "version": "3.12.8"
  }
 },
 "nbformat": 4,
 "nbformat_minor": 2
}
